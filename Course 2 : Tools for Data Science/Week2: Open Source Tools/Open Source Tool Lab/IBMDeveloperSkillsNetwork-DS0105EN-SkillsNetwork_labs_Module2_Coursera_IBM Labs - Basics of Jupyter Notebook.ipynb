{
  "metadata": {
    "kernelspec": {
      "name": "python",
      "display_name": "Pyolite",
      "language": "python"
    },
    "language_info": {
      "codemirror_mode": {
        "name": "python",
        "version": 3
      },
      "file_extension": ".py",
      "mimetype": "text/x-python",
      "name": "python",
      "nbconvert_exporter": "python",
      "pygments_lexer": "ipython3",
      "version": "3.8"
    }
  },
  "nbformat_minor": 4,
  "nbformat": 4,
  "cells": [
    {
      "cell_type": "markdown",
      "source": "<center>\n<img src=\"https://support.skillsnetwork.site/logo/logo/design_setting/555346/original/IBM_Skills_Network_Logo_-_Horizontal-350x100.png\" width=\"300\">\n    </center>\n",
      "metadata": {}
    },
    {
      "cell_type": "markdown",
      "source": "# Lab 1: Basics of Jupyter Notebook \nObjective:\n+ Create different markdown cells",
      "metadata": {}
    },
    {
      "cell_type": "markdown",
      "source": "#### Exercise 1: Write and execute code\n1. In your new empty notebook, click within the gray code cell and write some code, like 1 + 1.\n\n2. Execute the code, by either clicking the Play button in the menu above the notebook, or by pressing Shift+Enter on your notebook.\n\n3. You should see in the output, 2.\n\n4. Try executing other code (try simple math operations).\n\n",
      "metadata": {}
    },
    {
      "cell_type": "code",
      "source": "# Simple Math Operations \n1+1",
      "metadata": {
        "trusted": true
      },
      "execution_count": 1,
      "outputs": [
        {
          "execution_count": 1,
          "output_type": "execute_result",
          "data": {
            "text/plain": "2"
          },
          "metadata": {}
        }
      ]
    },
    {
      "cell_type": "code",
      "source": "2+2",
      "metadata": {
        "trusted": true
      },
      "execution_count": 2,
      "outputs": [
        {
          "execution_count": 2,
          "output_type": "execute_result",
          "data": {
            "text/plain": "4"
          },
          "metadata": {}
        }
      ]
    },
    {
      "cell_type": "code",
      "source": "4**3",
      "metadata": {
        "trusted": true
      },
      "execution_count": 3,
      "outputs": [
        {
          "execution_count": 3,
          "output_type": "execute_result",
          "data": {
            "text/plain": "64"
          },
          "metadata": {}
        }
      ]
    },
    {
      "cell_type": "code",
      "source": "4%5",
      "metadata": {},
      "execution_count": null,
      "outputs": [
        {
          "execution_count": 4,
          "output_type": "execute_result",
          "data": {
            "text/plain": "4"
          },
          "metadata": {}
        }
      ]
    },
    {
      "cell_type": "markdown",
      "source": "#### Exercise 2: Keyboard shortcuts\n1. Inserting Cells - [a] & [b]\n2. Creating markdown - double click on cell & [m]",
      "metadata": {}
    },
    {
      "cell_type": "markdown",
      "source": "#### Exercise 3: Markdown in Juptyer notebook\nCommon Markups:\n1. Creating tables\n2. Inserting HTML links\n",
      "metadata": {}
    },
    {
      "cell_type": "markdown",
      "source": "**Creating a table in markdown**\n\n|header|header|header|\n|------|------|------|\n| 1 | 2 | 3|\n",
      "metadata": {}
    },
    {
      "cell_type": "markdown",
      "source": "# Additional Resources \n+ [Interesting Notebooks](https://github.com/jupyter/jupyter/wiki)\n+ [Viewing Jupyter Files](https://nbviewer.org/)\n",
      "metadata": {}
    },
    {
      "cell_type": "markdown",
      "source": "# Key Notebooks / Articles\n+ [Exploratory Data Analysis in Python](https://nbviewer.org/github/Tanu-N-Prabhu/Python/blob/master/Exploratory_data_Analysis.ipynb)\n+ [Data Cleaning Using Python with Pandas Library](https://towardsdatascience.com/data-cleaning-with-python-using-pandas-library-c6f4a68ea8eb)\n+ [Clustering](https://nbviewer.org/github/temporaer/tutorial_ml_gkbionics/blob/master/2%20-%20KMeans.ipynb)\n+ [Complete Analysis](https://www.kaggle.com/code/lalitharajesh/iris-dataset-exploratory-data-analysis/notebook)\n",
      "metadata": {}
    },
    {
      "cell_type": "code",
      "source": "",
      "metadata": {},
      "execution_count": null,
      "outputs": []
    }
  ]
}