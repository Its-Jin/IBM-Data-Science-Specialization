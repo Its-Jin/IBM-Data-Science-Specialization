{
  "cells": [
    {
      "cell_type": "markdown",
      "metadata": {},
      "source": [
        "<center>\n",
        "<img src=\"https://support.skillsnetwork.site/logo/logo/design_setting/555346/original/IBM_Skills_Network_Logo_-_Horizontal-350x100.png\" width=\"300\">\n",
        "    </center>\n"
      ]
    },
    {
      "cell_type": "markdown",
      "metadata": {},
      "source": [
        "# Lab 1: Basics of Jupyter Notebook \n",
        "Objective:\n",
        "+ Create different markdown cells"
      ]
    },
    {
      "cell_type": "markdown",
      "metadata": {},
      "source": [
        "#### Exercise 1: Write and execute code\n",
        "1. In your new empty notebook, click within the gray code cell and write some code, like 1 + 1.\n",
        "\n",
        "2. Execute the code, by either clicking the Play button in the menu above the notebook, or by pressing Shift+Enter on your notebook.\n",
        "\n",
        "3. You should see in the output, 2.\n",
        "\n",
        "4. Try executing other code (try simple math operations).\n",
        "\n"
      ]
    },
    {
      "cell_type": "code",
      "execution_count": 1,
      "metadata": {
        "trusted": true
      },
      "outputs": [
        {
          "data": {
            "text/plain": [
              "2"
            ]
          },
          "execution_count": 1,
          "metadata": {},
          "output_type": "execute_result"
        }
      ],
      "source": [
        "# Simple Math Operations \n",
        "1+1"
      ]
    },
    {
      "cell_type": "code",
      "execution_count": 2,
      "metadata": {
        "trusted": true
      },
      "outputs": [
        {
          "data": {
            "text/plain": [
              "4"
            ]
          },
          "execution_count": 2,
          "metadata": {},
          "output_type": "execute_result"
        }
      ],
      "source": [
        "2+2"
      ]
    },
    {
      "cell_type": "code",
      "execution_count": 3,
      "metadata": {
        "trusted": true
      },
      "outputs": [
        {
          "data": {
            "text/plain": [
              "64"
            ]
          },
          "execution_count": 3,
          "metadata": {},
          "output_type": "execute_result"
        }
      ],
      "source": [
        "4**3"
      ]
    },
    {
      "cell_type": "code",
      "execution_count": null,
      "metadata": {},
      "outputs": [
        {
          "data": {
            "text/plain": [
              "4"
            ]
          },
          "execution_count": 4,
          "metadata": {},
          "output_type": "execute_result"
        }
      ],
      "source": [
        "4%5"
      ]
    },
    {
      "cell_type": "markdown",
      "metadata": {},
      "source": [
        "#### Exercise 2: Keyboard shortcuts\n",
        "1. Inserting Cells - [a] & [b]\n",
        "2. Creating markdown - double click on cell & [m]"
      ]
    },
    {
      "cell_type": "markdown",
      "metadata": {},
      "source": [
        "#### Exercise 3: Markdown in Juptyer notebook\n",
        "Common Markups:\n",
        "1. Creating tables\n",
        "2. Inserting HTML links\n"
      ]
    },
    {
      "cell_type": "markdown",
      "metadata": {},
      "source": [
        "**Creating a table in markdown**\n",
        "\n",
        "|header|header|header|\n",
        "|------|------|------|\n",
        "| 1 | 2 | 3|\n"
      ]
    },
    {
      "cell_type": "markdown",
      "metadata": {},
      "source": [
        "# Additional Resources \n",
        "+ [Interesting Notebooks](https://github.com/jupyter/jupyter/wiki)\n",
        "+ [Viewing Jupyter Files](https://nbviewer.org/)\n"
      ]
    },
    {
      "cell_type": "markdown",
      "metadata": {},
      "source": [
        "# Key Notebooks / Articles\n",
        "+ [Exploratory Data Analysis in Python](https://nbviewer.org/github/Tanu-N-Prabhu/Python/blob/master/Exploratory_data_Analysis.ipynb)\n",
        "+ [Data Cleaning Using Python with Pandas Library](https://towardsdatascience.com/data-cleaning-with-python-using-pandas-library-c6f4a68ea8eb)\n",
        "+ [Clustering](https://nbviewer.org/github/temporaer/tutorial_ml_gkbionics/blob/master/2%20-%20KMeans.ipynb)\n",
        "+ [Complete Analysis](https://www.kaggle.com/code/lalitharajesh/iris-dataset-exploratory-data-analysis/notebook)\n"
      ]
    },
    {
      "cell_type": "code",
      "execution_count": null,
      "metadata": {},
      "outputs": [],
      "source": []
    }
  ],
  "metadata": {
    "kernelspec": {
      "display_name": "Python 3.10.7 64-bit",
      "language": "python",
      "name": "python3"
    },
    "language_info": {
      "codemirror_mode": {
        "name": "python",
        "version": 3
      },
      "file_extension": ".py",
      "mimetype": "text/x-python",
      "name": "python",
      "nbconvert_exporter": "python",
      "pygments_lexer": "ipython3",
      "version": "3.10.7"
    },
    "vscode": {
      "interpreter": {
        "hash": "aee8b7b246df8f9039afb4144a1f6fd8d2ca17a180786b69acc140d282b71a49"
      }
    }
  },
  "nbformat": 4,
  "nbformat_minor": 4
}
